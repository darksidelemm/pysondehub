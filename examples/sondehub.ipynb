{
 "cells": [
  {
   "cell_type": "markdown",
   "id": "internal-russell",
   "metadata": {},
   "source": [
    "# Python Prerequisites\n",
    "\n",
    "In this below cell we install sondehub library"
   ]
  },
  {
   "cell_type": "code",
   "execution_count": 1,
   "id": "wanted-zambia",
   "metadata": {
    "scrolled": true
   },
   "outputs": [
    {
     "name": "stdout",
     "output_type": "stream",
     "text": [
      "Requirement already satisfied: sondehub in /usr/local/lib/python3.9/site-packages (0.1.7)\n",
      "Requirement already satisfied: boto3<2.0.0,>=1.14.44 in /usr/local/lib/python3.9/site-packages (from sondehub) (1.17.5)\n",
      "Requirement already satisfied: paho-mqtt<2.0.0,>=1.5.1 in /usr/local/lib/python3.9/site-packages (from sondehub) (1.5.1)\n",
      "Requirement already satisfied: jmespath<1.0.0,>=0.7.1 in /usr/local/lib/python3.9/site-packages (from boto3<2.0.0,>=1.14.44->sondehub) (0.10.0)\n",
      "Requirement already satisfied: s3transfer<0.4.0,>=0.3.0 in /usr/local/lib/python3.9/site-packages (from boto3<2.0.0,>=1.14.44->sondehub) (0.3.4)\n",
      "Requirement already satisfied: botocore<1.21.0,>=1.20.5 in /usr/local/lib/python3.9/site-packages (from boto3<2.0.0,>=1.14.44->sondehub) (1.20.5)\n",
      "Requirement already satisfied: python-dateutil<3.0.0,>=2.1 in /usr/local/lib/python3.9/site-packages (from botocore<1.21.0,>=1.20.5->boto3<2.0.0,>=1.14.44->sondehub) (2.8.1)\n",
      "Requirement already satisfied: urllib3<1.27,>=1.25.4 in /usr/local/lib/python3.9/site-packages (from botocore<1.21.0,>=1.20.5->boto3<2.0.0,>=1.14.44->sondehub) (1.26.2)\n",
      "Requirement already satisfied: six>=1.5 in /usr/local/lib/python3.9/site-packages (from python-dateutil<3.0.0,>=2.1->botocore<1.21.0,>=1.20.5->boto3<2.0.0,>=1.14.44->sondehub) (1.15.0)\n",
      "\u001b[33mWARNING: You are using pip version 20.3.3; however, version 21.0.1 is available.\n",
      "You should consider upgrading via the '/usr/local/opt/python@3.9/bin/python3.9 -m pip install --upgrade pip' command.\u001b[0m\n"
     ]
    }
   ],
   "source": [
    "# Install a pip package in the current Jupyter kernel\n",
    "import sys\n",
    "!{sys.executable} -m pip install sondehub"
   ]
  },
  {
   "cell_type": "markdown",
   "id": "velvet-valley",
   "metadata": {},
   "source": [
    "# Imports\n",
    "Next we import the python libraries we'll be using."
   ]
  },
  {
   "cell_type": "code",
   "execution_count": 13,
   "id": "attractive-korea",
   "metadata": {},
   "outputs": [],
   "source": [
    "# Sondehub lib that we'll be using to download and access the data\n",
    "import sondehub\n",
    "\n",
    "#numpy, matplotlib and scipy to help us graph and process some of the data\n",
    "import numpy as np\n",
    "import matplotlib.pyplot as plt\n",
    "import scipy.stats as stats\n",
    "\n",
    "import datetime"
   ]
  },
  {
   "cell_type": "markdown",
   "id": "seventh-democrat",
   "metadata": {},
   "source": [
    "# Download data\n",
    "The sondehub library handles accessing the data. Behind the scenes it's downloading the data from AWS Open Data S3 bucket.\n",
    "\n",
    "For this example we'll be looking at the \"S1120364\" radiosonde. You can find other serial numbers by browsing the S3 bucket for the open data at https://sondehub-open-data.s3-website-us-east-1.amazonaws.com or you can look at which radiosondes are currently aloft at https://sondehub.org"
   ]
  },
  {
   "cell_type": "code",
   "execution_count": 6,
   "id": "involved-chorus",
   "metadata": {},
   "outputs": [],
   "source": [
    "# This will take a little bit of time depending on your internet connection\n",
    "radiosonde = sondehub.download(serial=\"S4620525\")"
   ]
  },
  {
   "cell_type": "code",
   "execution_count": 7,
   "id": "returning-bread",
   "metadata": {},
   "outputs": [
    {
     "data": {
      "text/plain": [
       "{'datetime': '2021-02-09T22:30:39.001000Z',\n",
       " 'uploader_position': '-34.8137,138.7488',\n",
       " 'software_name': 'radiosonde_auto_rx',\n",
       " 'uploader_callsign': 'AREG_AUTO_RX',\n",
       " 'alt': -4.25039,\n",
       " 'lon': 138.52045,\n",
       " 'vel_h': 0.13142,\n",
       " 'frequency': 401.501,\n",
       " 'vel_v': 0.18256,\n",
       " 'manufacturer': 'Vaisala',\n",
       " 'batt': 3,\n",
       " 'software_version': '1.4.1-beta8',\n",
       " 'uploader_antenna': '6dBi Vertical',\n",
       " 'lat': -34.95243,\n",
       " 'subtype': 'RS41-SG',\n",
       " 'snr': 10.1,\n",
       " 'type': 'RS41',\n",
       " 'sats': 7,\n",
       " 'heading': 331.42193,\n",
       " 'frame': 1268,\n",
       " 'burst_timer': 65535,\n",
       " 'time_received': '2021-02-09T22:30:23.122067Z',\n",
       " 'serial': 'S4620525',\n",
       " 'user-agent': 'autorx-1.4.1-beta8',\n",
       " 'position': '-34.95243,138.52045',\n",
       " 'upload_time_delta': -1.425171,\n",
       " 'uploader_alt': 420}"
      ]
     },
     "execution_count": 7,
     "metadata": {},
     "output_type": "execute_result"
    }
   ],
   "source": [
    "radiosonde[0] # let's have a look at the first record"
   ]
  },
  {
   "cell_type": "markdown",
   "id": "addressed-superior",
   "metadata": {},
   "source": [
    "# Parse data\n",
    "To make things easier we use numpy to make an array out of the data. This will help us when we go to graph the data.\n",
    "\n",
    "In this case we are going to graph altitude, snr vs time"
   ]
  },
  {
   "cell_type": "code",
   "execution_count": 37,
   "id": "liquid-draft",
   "metadata": {},
   "outputs": [],
   "source": [
    "data = np.array(\n",
    "    [\n",
    "        [datetime.datetime.strptime(each['datetime'], \"%Y-%m-%dT%H:%M:%S.%fZ\"), each['alt'], each['snr'] if 'snr' in each else None]\n",
    "        for each in radiosonde\n",
    "    ]\n",
    ")"
   ]
  },
  {
   "cell_type": "code",
   "execution_count": 46,
   "id": "polish-heritage",
   "metadata": {},
   "outputs": [
    {
     "data": {
      "text/plain": [
       "array([[datetime.datetime(2021, 2, 9, 22, 30, 16, 1000), -6.80747, 7.8],\n",
       "       [datetime.datetime(2021, 2, 9, 22, 30, 18, 179618), '-4', None],\n",
       "       [datetime.datetime(2021, 2, 9, 22, 30, 28, 1000), -7.21371, 10.3],\n",
       "       ...,\n",
       "       [datetime.datetime(2021, 2, 10, 4, 43, 0, 118196), '277', None],\n",
       "       [datetime.datetime(2021, 2, 10, 4, 43, 30, 212890), '277', None],\n",
       "       [datetime.datetime(2021, 2, 10, 4, 44, 0, 188437), '277', None]],\n",
       "      dtype=object)"
      ]
     },
     "execution_count": 46,
     "metadata": {},
     "output_type": "execute_result"
    }
   ],
   "source": [
    "data = data[np.argsort(data[:, 0])] # order the data by the datetime\n",
    "\n",
    "data # have a look at the data"
   ]
  },
  {
   "cell_type": "markdown",
   "id": "lesbian-halifax",
   "metadata": {},
   "source": [
    "# Graph the data"
   ]
  },
  {
   "cell_type": "code",
   "execution_count": 47,
   "id": "working-membrane",
   "metadata": {},
   "outputs": [
    {
     "data": {
      "image/png": "[encoded data removed]",
      "text/plain": [
       "<Figure size 432x288 with 1 Axes>"
      ]
     },
     "metadata": {
      "needs_background": "light"
     },
     "output_type": "display_data"
    }
   ],
   "source": [
    "sonde_time = data[:,0] # get the datetime from the ndarray\n",
    "alt = data[:,1] # get the altitude from the ndarray\n",
    "\n",
    "\n",
    "plt.plot(sonde_time, alt)\n",
    "plt.show()"
   ]
  },
  {
   "cell_type": "code",
   "execution_count": 49,
   "id": "rational-maldives",
   "metadata": {},
   "outputs": [
    {
     "data": {
      "image/png": "[encoded data removed]",
      "text/plain": [
       "<Figure size 432x288 with 2 Axes>"
      ]
     },
     "metadata": {
      "needs_background": "light"
     },
     "output_type": "display_data"
    }
   ],
   "source": [
    "# Plot SNR along side\n",
    "\n",
    "sonde_time = data[:,0] # get the datetime from the ndarray\n",
    "alt = data[:,1] # get the altitude from the ndarray\n",
    "snr = data[:,2] # get the altitude from the ndarray\n",
    "\n",
    "fig,ax = plt.subplots()\n",
    "\n",
    "ax.plot(sonde_time, alt) # plot altitude on the first axis\n",
    "ax.set_ylabel(\"Alt\",fontsize=14)\n",
    "\n",
    "ax2=ax.twinx() # get a second axis\n",
    "ax2.set_ylabel(\"SNR\",fontsize=14)\n",
    "ax2.plot(sonde_time, snr, color=\"red\")\n",
    "\n",
    "\n",
    "plt.show()"
   ]
  },
  {
   "cell_type": "code",
   "execution_count": null,
   "id": "clean-tractor",
   "metadata": {},
   "outputs": [],
   "source": []
  }
 ],
 "metadata": {
  "kernelspec": {
   "display_name": "Python 3",
   "language": "python",
   "name": "python3"
  },
  "language_info": {
   "codemirror_mode": {
    "name": "ipython",
    "version": 3
   },
   "file_extension": ".py",
   "mimetype": "text/x-python",
   "name": "python",
   "nbconvert_exporter": "python",
   "pygments_lexer": "ipython3",
   "version": "3.9.1"
  }
 },
 "nbformat": 4,
 "nbformat_minor": 5
}
